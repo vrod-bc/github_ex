{
 "cells": [
  {
   "cell_type": "markdown",
   "metadata": {},
   "source": [
    "<h1> Capstone Project - The Battle of the Neighborhoods (Week 1)</h1>\n",
    "\n",
    "<h3> Applied Data Science Capstone by IBM/Coursera </h3>"
   ]
  },
  {
   "cell_type": "markdown",
   "metadata": {},
   "source": [
    "<h2>Introduction</h2>"
   ]
  },
  {
   "cell_type": "markdown",
   "metadata": {},
   "source": [
    "Technology is the fastest growing industry and there is no stopping it. The world is becoming more dependent on technology and there's a start-up around every corner worldwide. There are many hubs for technology, but few know about the up and coming hubs that are leading the way in their respective countries in the adoption of emerging technologies. This report aims to help tech enthusiasts and entrepreneurs alike to find an ideal and potential tech hub that is not Silicon Valley. This report focuses on the most prominent hubs divided by sector."
   ]
  },
  {
   "cell_type": "markdown",
   "metadata": {},
   "source": [
    "<h2>Data Acquisition</h2>"
   ]
  },
  {
   "cell_type": "markdown",
   "metadata": {},
   "source": [
    "In order to find the most popular technology hubs around the world data was extracted from multiple sources to corroborative the information:\n",
    "- Wikipedia (Latitude and Longitude) and Startup Genome (Cities)\n",
    "\n",
    "For the nearby venues common to the technology hubs for each hub:\n",
    "- Foursquare API\n",
    "\n",
    "The population data in each respective district or city:\n",
    "- UN population data\n",
    "\n",
    "Housing prices for each respective country:\n",
    "- IMF Global housing and Finder"
   ]
  },
  {
   "cell_type": "code",
   "execution_count": null,
   "metadata": {},
   "outputs": [],
   "source": []
  }
 ],
 "metadata": {
  "kernelspec": {
   "display_name": "Python 3",
   "language": "python",
   "name": "python3"
  },
  "language_info": {
   "codemirror_mode": {
    "name": "ipython",
    "version": 3
   },
   "file_extension": ".py",
   "mimetype": "text/x-python",
   "name": "python",
   "nbconvert_exporter": "python",
   "pygments_lexer": "ipython3",
   "version": "3.7.3"
  }
 },
 "nbformat": 4,
 "nbformat_minor": 2
}
